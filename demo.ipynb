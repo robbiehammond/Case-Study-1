{
 "cells": [
  {
   "cell_type": "code",
   "execution_count": 3,
   "metadata": {},
   "outputs": [
    {
     "name": "stdout",
     "output_type": "stream",
     "text": [
      "Test set AUC:  0.9250337541379733\n",
      "Test set AUC:  0.9926629404296713\n"
     ]
    }
   ],
   "source": [
    "import numpy as np\n",
    "from sklearn.preprocessing import StandardScaler\n",
    "from sklearn.svm import SVC\n",
    "from classifySpamTest import aucCV, predictTest\n",
    "from sklearn.metrics import auc, roc_auc_score\n",
    "\n",
    "\n",
    "trainData = np.loadtxt('spamTrain1.csv',delimiter=',')\n",
    "# Randomly shuffle rows of data set then separate labels (last column)\n",
    "np.random.seed(1)\n",
    "shuffleIndex = np.arange(np.shape(trainData)[0])\n",
    "np.random.shuffle(shuffleIndex)\n",
    "trainData = trainData[shuffleIndex,:]\n",
    "trainFeatures = trainData[:,:-1]\n",
    "trainLabels = trainData[:,-1]\n",
    "\n",
    "testData = np.loadtxt('spamTrain2.csv',delimiter=',')\n",
    "# Randomly shuffle rows of data set then separate labels (last column)\n",
    "np.random.seed(1)\n",
    "shuffleIndex = np.arange(np.shape(testData)[0])\n",
    "np.random.shuffle(shuffleIndex)\n",
    "testData = trainData[shuffleIndex,:]\n",
    "testFeatures = testData[:,:-1]\n",
    "testLabels = testData[:,-1]\n",
    "\n",
    "clf = SVC(C=1000, gamma=1, kernel='rbf', probability=True)\n",
    "# Fit classifier to training data\n",
    "clf.fit(trainFeatures, trainLabels)\n",
    "# Test on testing set\n",
    "testOutputs = predictTest(trainFeatures,trainLabels,testFeatures, model=clf)\n",
    "print(\"Test set AUC: \", roc_auc_score(testLabels,testOutputs))\n",
    "\n",
    "\n",
    "#scale features\n",
    "scaler = StandardScaler()\n",
    "scaledTrainFeatures = scaler.fit_transform(trainFeatures)\n",
    "scaledTestFeatures = scaler.transform(testFeatures)\n",
    "\n",
    "#predict as before\n",
    "testOutputs = predictTest(scaledTrainFeatures,trainLabels,scaledTestFeatures, model=clf)\n",
    "print(\"Test set AUC: \", roc_auc_score(testLabels,testOutputs))"
   ]
  }
 ],
 "metadata": {
  "kernelspec": {
   "display_name": "Python 3.9.12 ('base')",
   "language": "python",
   "name": "python3"
  },
  "language_info": {
   "codemirror_mode": {
    "name": "ipython",
    "version": 3
   },
   "file_extension": ".py",
   "mimetype": "text/x-python",
   "name": "python",
   "nbconvert_exporter": "python",
   "pygments_lexer": "ipython3",
   "version": "3.9.12"
  },
  "orig_nbformat": 4,
  "vscode": {
   "interpreter": {
    "hash": "056720edd19af293f9c3725b9da6189e5a09ccdaea137e23d832292e9af48bb0"
   }
  }
 },
 "nbformat": 4,
 "nbformat_minor": 2
}
